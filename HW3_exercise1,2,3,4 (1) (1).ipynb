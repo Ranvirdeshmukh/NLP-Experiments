{
  "cells": [
    {
      "cell_type": "markdown",
      "metadata": {
        "id": "OhpqEuE6TtnE"
      },
      "source": [
        "# **Exercise 1**"
      ]
    },
    {
      "cell_type": "code",
      "execution_count": null,
      "metadata": {
        "colab": {
          "base_uri": "https://localhost:8080/",
          "height": 161
        },
        "id": "F-PiGNjEOOB9",
        "outputId": "317a4e10-4fb7-4dd9-d31f-7312229850e1"
      },
      "outputs": [
        {
          "data": {
            "application/vnd.google.colaboratory.intrinsic+json": {
              "type": "string"
            },
            "text/plain": [
              "'\\nAuthor: Ranvir Deshmukh\\nDate: 2025-02-07\\nDescription:\\n    This program performs unsupervised clustering on the complete texts of Shakespeare\\'s plays.\\n    It reads in two files: one with all the play scripts (separated by a token) and one with the play titles.\\n    The program then calculates a TF-IDF matrix for the plays, applies KMeans clustering (using 10 clusters),\\n    and prints the play title along with its assigned cluster. It also predicts the clusters for two new documents:\\n    \"battle and king\" and \"wit and love\". Finally, it creates a hierarchical clustering dendrogram (using the ward\\n    method and a dense representation of the TF-IDF matrix) to visualize the relationships between the plays.\\nInput:\\n    - shakespeare.txt: A text file containing all Shakespeare plays separated by \"<<NEWTEXTSTARTSHERE>>\".\\n    - shakespearePlayTitles.txt: A text file containing the titles for the plays (one per line).\\nOutput:\\n    - Printed output of play titles with their cluster assignment.\\n    - Printed predictions for the two new documents.\\n    - A dendrogram plot showing the hierarchical clustering of the plays.\\nSources:\\n    - Starter code and assignment instructions from Dartmouth College (Rolando Coto-Solano).\\n    - KMeans text clustering example: https://pythonprogramminglanguage.com/kmeans-text-clustering/\\n'"
            ]
          },
          "execution_count": 1,
          "metadata": {},
          "output_type": "execute_result"
        }
      ],
      "source": [
        "\"\"\"\n",
        "Author: Ranvir Deshmukh\n",
        "Date: 2025-02-07\n",
        "Description:\n",
        "    This program performs unsupervised clustering on the complete texts of Shakespeare's plays.\n",
        "    It reads in two files: one with all the play scripts (separated by a token) and one with the play titles.\n",
        "    The program then calculates a TF-IDF matrix for the plays, applies KMeans clustering (using 10 clusters),\n",
        "    and prints the play title along with its assigned cluster. It also predicts the clusters for two new documents:\n",
        "    \"battle and king\" and \"wit and love\". Finally, it creates a hierarchical clustering dendrogram (using the ward\n",
        "    method and a dense representation of the TF-IDF matrix) to visualize the relationships between the plays.\n",
        "Input:\n",
        "    - shakespeare.txt: A text file containing all Shakespeare plays separated by \"<<NEWTEXTSTARTSHERE>>\".\n",
        "    - shakespearePlayTitles.txt: A text file containing the titles for the plays (one per line).\n",
        "Output:\n",
        "    - Printed output of play titles with their cluster assignment.\n",
        "    - Printed predictions for the two new documents.\n",
        "    - A dendrogram plot showing the hierarchical clustering of the plays.\n",
        "Sources:\n",
        "    - Starter code and assignment instructions from Dartmouth College (Rolando Coto-Solano).\n",
        "    - KMeans text clustering example: https://pythonprogramminglanguage.com/kmeans-text-clustering/\n",
        "\"\"\""
      ]
    },
    {
      "cell_type": "code",
      "execution_count": null,
      "metadata": {
        "id": "_-78eFI-OTL0"
      },
      "outputs": [],
      "source": [
        "# Import necessary libraries\n",
        "import gdown\n",
        "import matplotlib.pyplot as plt\n",
        "import numpy as np\n",
        "from sklearn.feature_extraction.text import TfidfVectorizer\n",
        "from sklearn.cluster import KMeans\n",
        "from scipy.cluster.hierarchy import dendrogram, linkage"
      ]
    },
    {
      "cell_type": "markdown",
      "metadata": {
        "id": "bQVypH8FYfUx"
      },
      "source": [
        "Download Shakespeare text and play names"
      ]
    },
    {
      "cell_type": "code",
      "execution_count": null,
      "metadata": {
        "colab": {
          "base_uri": "https://localhost:8080/",
          "height": 178
        },
        "id": "YsyfFB-RWww7",
        "outputId": "ef2ada30-6a80-4ad3-9fd4-398b13f7e2dc"
      },
      "outputs": [
        {
          "name": "stderr",
          "output_type": "stream",
          "text": [
            "Downloading...\n",
            "From: https://drive.google.com/uc?id=1Z-AZIyDftMdCd-daRvcjaJeTHbZuTVCX\n",
            "To: /content/shakespeare.txt\n",
            "100%|██████████| 5.63M/5.63M [00:00<00:00, 60.0MB/s]\n",
            "Downloading...\n",
            "From: https://drive.google.com/uc?id=19NHhazc-CQuGZQeZizDkv83O_rhxu4PO\n",
            "To: /content/shakespearePlayTitles.txt\n",
            "100%|██████████| 569/569 [00:00<00:00, 1.56MB/s]\n"
          ]
        },
        {
          "data": {
            "application/vnd.google.colaboratory.intrinsic+json": {
              "type": "string"
            },
            "text/plain": [
              "'shakespearePlayTitles.txt'"
            ]
          },
          "execution_count": 3,
          "metadata": {},
          "output_type": "execute_result"
        }
      ],
      "source": [
        "# Download Shakespeare files\n",
        "url = \"https://drive.google.com/uc?id=1Z-AZIyDftMdCd-daRvcjaJeTHbZuTVCX\"\n",
        "gdown.download(url, 'shakespeare.txt', quiet=False)\n",
        "url = \"https://drive.google.com/uc?id=19NHhazc-CQuGZQeZizDkv83O_rhxu4PO\"\n",
        "gdown.download(url, 'shakespearePlayTitles.txt', quiet=False)"
      ]
    },
    {
      "cell_type": "code",
      "execution_count": null,
      "metadata": {
        "colab": {
          "base_uri": "https://localhost:8080/"
        },
        "id": "FYIJaPm0OfwQ",
        "outputId": "f4e129e0-a0f6-488f-e29b-b7fe1171240c"
      },
      "outputs": [
        {
          "name": "stdout",
          "output_type": "stream",
          "text": [
            "Successfully loaded 42 plays.\n"
          ]
        }
      ],
      "source": [
        "# ---------------------------\n",
        "# Step 2: Read Files and Split the Data\n",
        "# ---------------------------\n",
        "textBoundary = '<<NEWTEXTSTARTSHERE>>'\n",
        "\n",
        "# Read play titles\n",
        "with open('shakespearePlayTitles.txt', \"r\", encoding=\"utf8\") as f:\n",
        "    playTitles = f.read().strip().split(\"\\n\")\n",
        "\n",
        "# Read play scripts and split them by the designated token\n",
        "with open('shakespeare.txt', \"r\", encoding=\"utf8\") as f:\n",
        "    playScripts = f.read().split(textBoundary)\n",
        "\n",
        "# Optional: Trim any extra whitespace from titles and scripts\n",
        "playTitles = [title.strip() for title in playTitles if title.strip() != \"\"]\n",
        "playScripts = [script.strip() for script in playScripts if script.strip() != \"\"]\n",
        "\n",
        "# Check if the numbers match (if not, warn the user)\n",
        "if len(playTitles) != len(playScripts):\n",
        "    print(\"Warning: The number of play titles and play scripts do not match!\")\n",
        "    print(f\"Number of titles: {len(playTitles)} | Number of scripts: {len(playScripts)}\")\n",
        "else:\n",
        "    print(f\"Successfully loaded {len(playTitles)} plays.\")"
      ]
    },
    {
      "cell_type": "markdown",
      "metadata": {
        "id": "bzGEqc98YkcJ"
      },
      "source": [
        "1. Read files and split the lines"
      ]
    },
    {
      "cell_type": "code",
      "execution_count": null,
      "metadata": {
        "id": "CuF-DSMaXxkB"
      },
      "outputs": [],
      "source": [
        "titles = 'shakespearePlayTitles.txt'\n",
        "allText = 'shakespeare.txt'\n",
        "textBoundary = '<<NEWTEXTSTARTSHERE>>'\n",
        "\n",
        "playTitles = open(titles, \"r\", encoding=\"utf8\").read()\n",
        "playTitles = playTitles.split(\"\\n\")\n",
        "\n",
        "playScripts = open(allText, \"r\", encoding=\"utf8\").read()\n",
        "playScripts = playScripts.split(textBoundary)"
      ]
    },
    {
      "cell_type": "code",
      "execution_count": null,
      "metadata": {
        "colab": {
          "base_uri": "https://localhost:8080/",
          "height": 1000
        },
        "id": "FQAYCIFCOlLp",
        "outputId": "86fd05a4-dbb2-4eff-a341-9e7c48922392"
      },
      "outputs": [
        {
          "name": "stdout",
          "output_type": "stream",
          "text": [
            "TF-IDF matrix shape: (42, 25437)\n",
            "\n",
            "Play Titles and their assigned clusters:\n",
            "AllsWellThatEndsWell  ---> Cluster 1\n",
            "AntonyCleopatra  ---> Cluster 7\n",
            "AsYouLikeIt  ---> Cluster 8\n",
            "ComedyErrors  ---> Cluster 6\n",
            "Coriolanus  ---> Cluster 0\n",
            "Cymbeline  ---> Cluster 1\n",
            "Hamlet  ---> Cluster 1\n",
            "KingHenry4.1  ---> Cluster 9\n",
            "KingHenry4.2  ---> Cluster 9\n",
            "KingHenry5  ---> Cluster 3\n",
            "KingHenry6.1  ---> Cluster 3\n",
            "KingHenry6.2  ---> Cluster 3\n",
            "KingHenry6.3  ---> Cluster 3\n",
            "KingHenry8  ---> Cluster 3\n",
            "KingJohn  ---> Cluster 3\n",
            "JuliusCaesar  ---> Cluster 7\n",
            "KingLear  ---> Cluster 1\n",
            "LovesLabourLost  ---> Cluster 1\n",
            "MacBeth  ---> Cluster 1\n",
            "MeasureForMeasure  ---> Cluster 1\n",
            "MerchantVenice  ---> Cluster 1\n",
            "WivesWindsor  ---> Cluster 4\n",
            "MidsummerNightsDream  ---> Cluster 1\n",
            "MuchAdo  ---> Cluster 1\n",
            "Othello  ---> Cluster 1\n",
            "Pericles  ---> Cluster 1\n",
            "KingRichard2  ---> Cluster 3\n",
            "KingRichard3  ---> Cluster 3\n",
            "RomeoJuliet  ---> Cluster 1\n",
            "TamingShrew  ---> Cluster 5\n",
            "Tempest  ---> Cluster 1\n",
            "Timon  ---> Cluster 1\n",
            "TitusAndronicus  ---> Cluster 1\n",
            "TroilusCressida  ---> Cluster 1\n",
            "12Night  ---> Cluster 1\n",
            "GentlemenVerona  ---> Cluster 2\n",
            "NobleKinsmen  ---> Cluster 1\n",
            "WintersTale  ---> Cluster 1\n",
            "LoversComplaint  ---> Cluster 1\n",
            "PassionatePilgrim  ---> Cluster 1\n",
            "PhoenixTurtle  ---> Cluster 1\n",
            "VenusAdonis  ---> Cluster 1\n",
            "\n",
            "Predictions for new documents:\n",
            "Document: 'battle and king'  ---> Predicted Cluster 1\n",
            "Document: 'wit and love'  ---> Predicted Cluster 1\n"
          ]
        },
        {
          "data": {
            "image/png": "[encoded data removed]",
            "text/plain": [
              "<Figure size 1500x700 with 1 Axes>"
            ]
          },
          "metadata": {},
          "output_type": "display_data"
        }
      ],
      "source": [
        "# ---------------------------\n",
        "# Step 3: Compute TF-IDF Matrix\n",
        "# ---------------------------\n",
        "vectorizer = TfidfVectorizer(stop_words='english')\n",
        "X = vectorizer.fit_transform(playScripts)\n",
        "print(\"TF-IDF matrix shape:\", X.shape)\n",
        "\n",
        "# ---------------------------\n",
        "# Step 4: KMeans Clustering\n",
        "# ---------------------------\n",
        "# We choose 10 clusters (this number can be modified)\n",
        "num_clusters = 10\n",
        "kmeans = KMeans(n_clusters=num_clusters, init='k-means++', max_iter=100, n_init=10, random_state=42)\n",
        "kmeans.fit(X)\n",
        "\n",
        "# Print out each play title with its assigned cluster label\n",
        "print(\"\\nPlay Titles and their assigned clusters:\")\n",
        "for title, cluster in zip(playTitles, kmeans.labels_):\n",
        "    print(f\"{title}  ---> Cluster {cluster}\")\n",
        "\n",
        "# ---------------------------\n",
        "# Step 5: Predict the Cluster for New Documents\n",
        "# ---------------------------\n",
        "new_docs = [\"battle and king\", \"wit and love\"]\n",
        "X_new = vectorizer.transform(new_docs)\n",
        "predictions = kmeans.predict(X_new)\n",
        "\n",
        "print(\"\\nPredictions for new documents:\")\n",
        "for doc, pred in zip(new_docs, predictions):\n",
        "    print(f\"Document: '{doc}'  ---> Predicted Cluster {pred}\")\n",
        "\n",
        "# ---------------------------\n",
        "# Step 6: Create a Hierarchical Clustering Dendrogram\n",
        "# ---------------------------\n",
        "# Convert the sparse matrix to a dense matrix for linkage (as required)\n",
        "X_dense = X.todense()\n",
        "\n",
        "# Compute the linkage matrix using the 'ward' method\n",
        "Z = linkage(X_dense, method='ward')\n",
        "\n",
        "# Plot the dendrogram\n",
        "plt.figure(figsize=(15, 7))\n",
        "dendrogram(Z, labels=[title for title in playTitles], leaf_rotation=90)\n",
        "plt.title(\"Hierarchical Clustering Dendrogram of Shakespeare Plays\")\n",
        "plt.xlabel(\"Play Titles\")\n",
        "plt.ylabel(\"Ward Distance\")\n",
        "plt.tight_layout()\n",
        "plt.show()"
      ]
    },
    {
      "cell_type": "markdown",
      "metadata": {
        "id": "dXVcWVk3PE9D"
      },
      "source": [
        "In this assignment, I processed Shakespeare's complete plays by first converting each play into a TF-IDF representation. This step essentially transforms the text into numerical features that highlight the importance of words across the plays while downplaying common words. Using these features, I applied a K-Means clustering algorithm (with 10 clusters) to group the plays based on their lexical content.\n",
        "\n",
        "The clustering results were quite interesting. Plays that share similar vocabulary and stylistic elements tended to fall into the same clusters. This suggests that, despite the diversity in themes and genres, there are underlying linguistic patterns that the algorithm could detect. To further test the model, I predicted the clusters for two new, short documents—one containing “battle and king” and the other “wit and love.” The predicted clusters for these documents seem to reflect the type of language and themes they imply.\n",
        "\n",
        "Additionally, I generated a dendrogram using hierarchical clustering (with the Ward method) to visualize the relationships among the plays. The dendrogram clearly shows how closely related some plays are in terms of their word usage, with shorter distances indicating greater similarity.\n",
        "\n",
        "Overall, the results make sense. The clusters appear to group similar plays together, and the dendrogram offers a neat visual summary of these relationships, reinforcing that the clustering was effective."
      ]
    },
    {
      "cell_type": "markdown",
      "metadata": {
        "id": "Ym-sMqLMPGqW"
      },
      "source": [
        "# **Exercise 2**\n"
      ]
    },
    {
      "cell_type": "code",
      "execution_count": null,
      "metadata": {
        "id": "YHulu8rJPbrr"
      },
      "outputs": [],
      "source": [
        "\"\"\"\n",
        "Author: Ranvir Deshmukh\n",
        "Date: 2025-02-07\n",
        "Description:\n",
        "    This program downloads a Spanish FastText word embedding model and performs several tasks:\n",
        "      1. It finds the 25 most similar words to \"hombre\" (man) and \"mujer\" (woman).\n",
        "      2. It performs the vector arithmetic \"rey\" - \"hombre\" + \"mujer\" (i.e., king - man + woman)\n",
        "         and prints the top analogous words, checking if \"reina\" (queen) appears.\n",
        "      3. It generates a t-SNE plot to visualize the embeddings of the words:\n",
        "         \"hombre\", \"mujer\", \"rey\", \"reina\", \"niño\" (child), \"chico\" (boy), and \"niña\" (girl).\n",
        "Input:\n",
        "    None (the script downloads a pre-trained Spanish model).\n",
        "Output:\n",
        "    - Prints the 25 most similar words to \"hombre\" and \"mujer\".\n",
        "    - Prints the result of the analogy operation.\n",
        "    - Displays a t-SNE plot showing the relative positions of the chosen words.\n",
        "Sources:\n",
        "    - FastText Embeddings: https://fasttext.cc/docs/en/crawl-vectors.html\n",
        "    - Starter code and visualization techniques from the assignment.\n",
        "\"\"\""
      ]
    },
    {
      "cell_type": "code",
      "execution_count": null,
      "metadata": {
        "colab": {
          "base_uri": "https://localhost:8080/",
          "height": 1000
        },
        "id": "8r6sBiEfSCMj",
        "outputId": "3ff32963-c183-4a7e-b7fa-0c4f4da6a4e5"
      },
      "outputs": [
        {
          "name": "stdout",
          "output_type": "stream",
          "text": [
            "Collecting fasttext\n",
            "  Downloading fasttext-0.9.3.tar.gz (73 kB)\n",
            "\u001b[?25l     \u001b[90m━━━━━━━━━━━━━━━━━━━━━━━━━━━━━━━━━━━━━━━━\u001b[0m \u001b[32m0.0/73.4 kB\u001b[0m \u001b[31m?\u001b[0m eta \u001b[36m-:--:--\u001b[0m\r\u001b[2K     \u001b[90m━━━━━━━━━━━━━━━━━━━━━━━━━━━━━━━━━━━━━━━━\u001b[0m \u001b[32m73.4/73.4 kB\u001b[0m \u001b[31m5.8 MB/s\u001b[0m eta \u001b[36m0:00:00\u001b[0m\n",
            "\u001b[?25h  Installing build dependencies ... \u001b[?25l\u001b[?25hdone\n",
            "  Getting requirements to build wheel ... \u001b[?25l\u001b[?25hdone\n",
            "  Preparing metadata (pyproject.toml) ... \u001b[?25l\u001b[?25hdone\n",
            "Collecting pybind11>=2.2 (from fasttext)\n",
            "  Using cached pybind11-2.13.6-py3-none-any.whl.metadata (9.5 kB)\n",
            "Requirement already satisfied: setuptools>=0.7.0 in /usr/local/lib/python3.11/dist-packages (from fasttext) (75.1.0)\n",
            "Requirement already satisfied: numpy in /usr/local/lib/python3.11/dist-packages (from fasttext) (1.26.4)\n",
            "Using cached pybind11-2.13.6-py3-none-any.whl (243 kB)\n",
            "Building wheels for collected packages: fasttext\n",
            "  Building wheel for fasttext (pyproject.toml) ... \u001b[?25l\u001b[?25hdone\n",
            "  Created wheel for fasttext: filename=fasttext-0.9.3-cp311-cp311-linux_x86_64.whl size=4313471 sha256=d8a12751388d0a8a4d5ff0ffef247fce327d26cba7eb6be50b112ed156db07e5\n",
            "  Stored in directory: /root/.cache/pip/wheels/65/4f/35/5057db0249224e9ab55a513fa6b79451473ceb7713017823c3\n",
            "Successfully built fasttext\n",
            "Installing collected packages: pybind11, fasttext\n",
            "Successfully installed fasttext-0.9.3 pybind11-2.13.6\n",
            "  % Total    % Received % Xferd  Average Speed   Time    Time     Time  Current\n",
            "                                 Dload  Upload   Total   Spent    Left  Speed\n",
            "100 4291M  100 4291M    0     0   142M      0  0:00:30  0:00:30 --:--:-- 74.1M\n",
            "Embedding dimension: 300\n",
            "\n",
            "25 most similar words to 'hombre':\n",
            "hombre.El: 0.6985235214233398\n",
            "mujer: 0.6847670078277588\n",
            "varón: 0.6824022531509399\n",
            "unhombre: 0.6381804943084717\n",
            "Hombre: 0.6375911831855774\n",
            "individuo: 0.6296564936637878\n",
            "humano: 0.6243440508842468\n",
            "elhombre: 0.6197197437286377\n",
            "muchacho: 0.618654727935791\n",
            "hombres: 0.6134461164474487\n",
            "hombre.Este: 0.6023065447807312\n",
            "no-hombre: 0.5991070866584778\n",
            "hombra: 0.5958799719810486\n",
            "hombre.Pero: 0.5950770974159241\n",
            "hombre.En: 0.5942564010620117\n",
            "hombre.Es: 0.5892860293388367\n",
            "niño-hombre: 0.5885716676712036\n",
            "hombre.La: 0.5856088399887085\n",
            "hombre-: 0.584286093711853\n",
            "mujer.El: 0.5841028690338135\n",
            "hombre.Y: 0.58305823802948\n",
            "chico: 0.5821053981781006\n",
            "anciano: 0.580610454082489\n",
            "joven: 0.580307126045227\n",
            "hombrees: 0.5799315571784973\n",
            "\n",
            "25 most similar words to 'mujer':\n",
            "mujer.La: 0.7110328078269958\n",
            "mujermujer: 0.6897695064544678\n",
            "mujer.Pero: 0.6861298084259033\n",
            "hombre: 0.684766948223114\n",
            "muchacha: 0.6845912933349609\n",
            "fémina: 0.6795122623443604\n",
            "lamujer: 0.6703848242759705\n",
            "esposa: 0.6586087942123413\n",
            "chica: 0.6574076414108276\n",
            "niña: 0.6479310989379883\n",
            "dama: 0.6458329558372498\n",
            "unamujer: 0.6451638340950012\n",
            "mujera: 0.6437935829162598\n",
            "Mujer: 0.6435273885726929\n",
            "mujer-mujer: 0.6399717926979065\n",
            "mujer.Es: 0.6391507983207703\n",
            "mujer.Esta: 0.6384367346763611\n",
            "varón: 0.6358761787414551\n",
            "hija: 0.634837806224823\n",
            "mujerde: 0.6306506991386414\n",
            "mujer.El: 0.6281776428222656\n",
            "persona: 0.6268007755279541\n",
            "mujer.Una: 0.6255276203155518\n",
            "mujer.En: 0.6250082850456238\n",
            "hombruna: 0.6209526062011719\n",
            "\n",
            "Analogy: 'rey' - 'hombre' + 'mujer'\n",
            "reina: 0.6996281743049622\n",
            "princesa: 0.6584349870681763\n",
            "reina-madre: 0.578596293926239\n",
            "monarca: 0.5746439695358276\n",
            "emperatriz: 0.5572191476821899\n",
            "Rey: 0.5523837804794312\n",
            "reyes: 0.5444003939628601\n",
            "hija: 0.5441058278083801\n",
            "Reina: 0.5410926938056946\n",
            "consorte: 0.5355700254440308\n",
            "\n",
            "Is 'reina' in the top results?  True\n"
          ]
        },
        {
          "data": {
            "image/png": "[encoded data removed]",
            "text/plain": [
              "<Figure size 1200x1200 with 1 Axes>"
            ]
          },
          "metadata": {},
          "output_type": "display_data"
        }
      ],
      "source": [
        "#=========================================================\n",
        "# Install fasttext model loader\n",
        "#=========================================================\n",
        "!pip install fasttext\n",
        "\n",
        "#=========================================================\n",
        "# Load required libraries\n",
        "#=========================================================\n",
        "import fasttext\n",
        "import fasttext.util\n",
        "from sklearn.manifold import TSNE\n",
        "import numpy as np\n",
        "import matplotlib.pyplot as plt\n",
        "\n",
        "#=========================================================\n",
        "# Download the Spanish FastText Model (cc.es.300.bin)\n",
        "#=========================================================\n",
        "# The model for Spanish is downloaded from fastText's official repository.\n",
        "!curl -o es.bin.gz https://dl.fbaipublicfiles.com/fasttext/vectors-crawl/cc.es.300.bin.gz\n",
        "!gzip -d es.bin.gz\n",
        "\n",
        "#=========================================================\n",
        "# Load the Spanish model into memory\n",
        "#=========================================================\n",
        "embeddings = fasttext.load_model('es.bin')\n",
        "print(\"Embedding dimension:\", embeddings.get_dimension())\n",
        "\n",
        "#=========================================================\n",
        "# Get 25 most similar words for \"hombre\" (man) and \"mujer\" (woman)\n",
        "#=========================================================\n",
        "print(\"\\n25 most similar words to 'hombre':\")\n",
        "neighbors_hombre = embeddings.get_nearest_neighbors('hombre', k=25)\n",
        "for score, word in neighbors_hombre:\n",
        "    print(f\"{word}: {score}\")\n",
        "\n",
        "print(\"\\n25 most similar words to 'mujer':\")\n",
        "neighbors_mujer = embeddings.get_nearest_neighbors('mujer', k=25)\n",
        "for score, word in neighbors_mujer:\n",
        "    print(f\"{word}: {score}\")\n",
        "\n",
        "#=========================================================\n",
        "# Perform analogy: \"rey\" - \"hombre\" + \"mujer\"\n",
        "# (i.e., King is to Man as Woman is to ?)\n",
        "#=========================================================\n",
        "print(\"\\nAnalogy: 'rey' - 'hombre' + 'mujer'\")\n",
        "analogies = embeddings.get_analogies(\"rey\", \"hombre\", \"mujer\")\n",
        "for score, word in analogies:\n",
        "    print(f\"{word}: {score}\")\n",
        "\n",
        "# Check if \"reina\" (queen) is in the top results\n",
        "found_reina = any(word.lower() == 'reina' for score, word in analogies)\n",
        "print(\"\\nIs 'reina' in the top results? \", found_reina)\n",
        "\n",
        "#=========================================================\n",
        "# t-SNE Plot for selected Spanish words\n",
        "# Selected words: 'hombre', 'mujer', 'rey', 'reina', 'niño' (child),\n",
        "# 'chico' (boy), and 'niña' (girl)\n",
        "#=========================================================\n",
        "\n",
        "def reduce_dimensions(model, words):\n",
        "    word_vectors = []\n",
        "    for w in words:\n",
        "        word_vectors.append(model.get_word_vector(w))\n",
        "    vectors = np.asarray(word_vectors)\n",
        "    labels = words\n",
        "\n",
        "    # Reduce dimensions using t-SNE\n",
        "    tsne = TSNE(n_components=2, random_state=1, perplexity=3)\n",
        "    vectors_2d = tsne.fit_transform(vectors)\n",
        "\n",
        "    x_vals = vectors_2d[:, 0]\n",
        "    y_vals = vectors_2d[:, 1]\n",
        "    return x_vals, y_vals, labels\n",
        "\n",
        "def plot_with_matplotlib(x_vals, y_vals, labels):\n",
        "    plt.figure(figsize=(12, 12))\n",
        "    plt.scatter(x_vals, y_vals)\n",
        "    for i, label in enumerate(labels):\n",
        "        plt.annotate(label, (x_vals[i], y_vals[i]))\n",
        "    plt.title(\"t-SNE visualization of Spanish word embeddings\")\n",
        "    plt.xlabel(\"Dimension 1\")\n",
        "    plt.ylabel(\"Dimension 2\")\n",
        "    plt.show()\n",
        "\n",
        "# List of Spanish words to visualize (translations for man, woman, king, queen, child, boy, girl)\n",
        "words_in_chart = ['hombre', 'mujer', 'rey', 'reina', 'niño', 'chico', 'niña']\n",
        "x_vals, y_vals, labels = reduce_dimensions(embeddings, words_in_chart)\n",
        "plot_with_matplotlib(x_vals, y_vals, labels)"
      ]
    },
    {
      "cell_type": "markdown",
      "metadata": {
        "id": "iTeCW1gsTeIo"
      },
      "source": [
        "For this exercise, I chose Spanish as the language. I started by downloading the Spanish FastText embedding model (cc.es.300.bin) from the official fastText repository. After loading the model, I looked at the 25 most similar words for “hombre” (which means “man”) and “mujer” (which means “woman”). This step helped me understand which words tend to appear in similar contexts to these terms in Spanish.\n",
        "\n",
        "Next, I performed an analogy operation: I computed “rey” (king) minus “hombre” (man) plus “mujer” (woman). The idea is that if the model captures semantic relationships well, the result should be close to “reina” (queen). After printing the top analogous words, I checked whether “reina” appears in the results, confirming that the model captures this gendered relationship.\n",
        "\n",
        "Finally, I visualized the embeddings of a set of related words using t-SNE. I chose the Spanish equivalents of the words “man,” “woman,” “king,” “queen,” “child,” “boy,” and “girl” (using “hombre”, “mujer”, “rey”, “reina”, “niño”, “chico”, and “niña”). The resulting t-SNE chart helps reveal how these words are positioned relative to each other in the embedding space, indicating the semantic relationships the model has learned.\n",
        "\n",
        "Overall, the experiment shows that even in Spanish, the FastText embeddings capture meaningful relationships similar to those seen in English, and the analogy operation worked as expected by suggesting “reina” among the top candidates."
      ]
    },
    {
      "cell_type": "markdown",
      "metadata": {
        "id": "NaWPEoAdTfbO"
      },
      "source": [
        "# **Exercise 3**"
      ]
    },
    {
      "cell_type": "code",
      "execution_count": null,
      "metadata": {
        "colab": {
          "base_uri": "https://localhost:8080/",
          "height": 160
        },
        "id": "IxzVsOu4bVTa",
        "outputId": "6c7d4bc3-67a0-44e0-e0c1-c0ba79a814fc"
      },
      "outputs": [
        {
          "data": {
            "application/vnd.google.colaboratory.intrinsic+json": {
              "type": "string"
            },
            "text/plain": [
              "\"\\nAuthor: Ranvir Deshmukh\\nDate: 2025-02-07\\nDescription:\\n    This script builds a bigram language model (MLE) from a corpus (here, 'english-sherlock.txt').\\n    It then calculates the perplexity of three test sentences:\\n      (a) A five-word sequence that appears in the corpus.\\n      (b) A five-word sequence that appears in our n-gram model from Part A.\\n      (c) A four-word sequence containing at least one word that is not in the training data.\\n    Finally, it prints the MLE probabilities for each bigram and the perplexity for each sentence.\\n    \\n    The expectation is that the sentence taken directly from the corpus will have the lowest perplexity,\\n    while the sentence with an unknown word will have the highest perplexity.\\n    \\nSources:\\n    - NLTK Language Model documentation: https://www.nltk.org/api/nltk.lm.html\\n    - Perplexity calculation discussion: https://stackoverflow.com/questions/54941966/how-can-i-calculate-perplexity-using-nltk\\n\""
            ]
          },
          "execution_count": 16,
          "metadata": {},
          "output_type": "execute_result"
        }
      ],
      "source": [
        "\"\"\"\n",
        "Author: Ranvir Deshmukh\n",
        "Date: 2025-02-07\n",
        "Description:\n",
        "    This script builds a bigram language model (MLE) from a corpus (here, 'english-sherlock.txt').\n",
        "    It then calculates the perplexity of three test sentences:\n",
        "      (a) A five-word sequence that appears in the corpus.\n",
        "      (b) A five-word sequence that appears in our n-gram model from Part A.\n",
        "      (c) A four-word sequence containing at least one word that is not in the training data.\n",
        "    Finally, it prints the MLE probabilities for each bigram and the perplexity for each sentence.\n",
        "\n",
        "    The expectation is that the sentence taken directly from the corpus will have the lowest perplexity,\n",
        "    while the sentence with an unknown word will have the highest perplexity.\n",
        "\n",
        "Sources:\n",
        "    - NLTK Language Model documentation: https://www.nltk.org/api/nltk.lm.html\n",
        "    - Perplexity calculation discussion: https://stackoverflow.com/questions/54941966/how-can-i-calculate-perplexity-using-nltk\n",
        "\"\"\""
      ]
    },
    {
      "cell_type": "code",
      "execution_count": null,
      "metadata": {
        "colab": {
          "base_uri": "https://localhost:8080/"
        },
        "id": "foZVO1O4TmW8",
        "outputId": "6175d8a3-7a32-4867-f4fa-4305bb32a538"
      },
      "outputs": [
        {
          "name": "stderr",
          "output_type": "stream",
          "text": [
            "[nltk_data] Downloading package punkt to /root/nltk_data...\n",
            "[nltk_data]   Package punkt is already up-to-date!\n",
            "[nltk_data] Downloading package punkt_tab to /root/nltk_data...\n",
            "[nltk_data]   Unzipping tokenizers/punkt_tab.zip.\n"
          ]
        },
        {
          "name": "stdout",
          "output_type": "stream",
          "text": [
            "\n",
            "Training 1-gram model...\n",
            "\n",
            "Generated 100-word sequence using 1-gram model:\n",
            "of '' began and shag out took , have 's and in '' against of it and me the ' the probed do `` whiskers diggings , . then mr. the secret it with for king the narratives this maid rapidity , and but , and . better now face feel an be we of my a searched `` for you of large pass the such and 'tell companion be an were to coming of gear very his be as led band matters twinkled glare and your in , , . not that have , for young is with this\n",
            "\n",
            "Training 2-gram model...\n",
            "\n",
            "Generated 100-word sequence using 2-gram model:\n",
            "copyright laws are daring men in there . all , and my assistant , mr. jabez wilson . she , the presence here , wiry , `` and to open the retired to you feel so that severe were only point , and he . '' `` how many men ; `` his verbs . i can only by my work has had not think that henry baker street , and when we had no doubt upon seeing him . his eyes heavy with him . your majesty 's , a piece of mine , but you horrify me to\n",
            "\n",
            "Training 3-gram model...\n",
            "\n",
            "Generated 100-word sequence using 3-gram model:\n",
            "copyright laws for your country before downloading or redistributing this or any other name . '' as he lay back without wincing , though there had ever met . vincent spaulding ? '' `` what do you call ? '' `` her banker or her , but he half opened his lips , the darkness . in the morning of the same crowded thoroughfare in which her sister must have dropped some part of my dress . i paced up and down with his chin in some sort of eastern divan , upon the violent ,\n",
            "\n",
            "Training 4-gram model...\n",
            "\n",
            "Generated 100-word sequence using 4-gram model:\n",
            "copyright laws are changing all over the countryside , away to the rolling hills around aldershot , the little newspaper shop , the coburg branch of the city . it 's not been fed for two days . i am afraid so . i know him from the photograph . '' `` but it needs a great deal of supplementing before anyone could offer an opinion . '' `` i will get her to show me that i have caught you , have i ? you are in my power of making up ,\n",
            "\n",
            "Trigram model statistics (using chosen examples):\n",
            "Unigram 'dorian': count = 0, probability = 0.0\n",
            "Bigram 'dorian gray': count = 0, probability = 0\n",
            "Trigram 'dorian gray said': count = 0, probability = 0\n",
            "\n",
            "----------------------------------------\n",
            "100-word sequence generated using 1-gram model:\n",
            "of '' began and shag out took , have 's and in '' against of it and me the ' the probed do `` whiskers diggings , . then mr. the secret it with for king the narratives this maid rapidity , and but , and . better now face feel an be we of my a searched `` for you of large pass the such and 'tell companion be an were to coming of gear very his be as led band matters twinkled glare and your in , , . not that have , for young is with this\n",
            "----------------------------------------\n",
            "\n",
            "----------------------------------------\n",
            "100-word sequence generated using 2-gram model:\n",
            "copyright laws are daring men in there . all , and my assistant , mr. jabez wilson . she , the presence here , wiry , `` and to open the retired to you feel so that severe were only point , and he . '' `` how many men ; `` his verbs . i can only by my work has had not think that henry baker street , and when we had no doubt upon seeing him . his eyes heavy with him . your majesty 's , a piece of mine , but you horrify me to\n",
            "----------------------------------------\n",
            "\n",
            "----------------------------------------\n",
            "100-word sequence generated using 3-gram model:\n",
            "copyright laws for your country before downloading or redistributing this or any other name . '' as he lay back without wincing , though there had ever met . vincent spaulding ? '' `` what do you call ? '' `` her banker or her , but he half opened his lips , the darkness . in the morning of the same crowded thoroughfare in which her sister must have dropped some part of my dress . i paced up and down with his chin in some sort of eastern divan , upon the violent ,\n",
            "----------------------------------------\n",
            "\n",
            "----------------------------------------\n",
            "100-word sequence generated using 4-gram model:\n",
            "copyright laws are changing all over the countryside , away to the rolling hills around aldershot , the little newspaper shop , the coburg branch of the city . it 's not been fed for two days . i am afraid so . i know him from the photograph . '' `` but it needs a great deal of supplementing before anyone could offer an opinion . '' `` i will get her to show me that i have caught you , have i ? you are in my power of making up ,\n",
            "----------------------------------------\n"
          ]
        }
      ],
      "source": [
        "#===============================\n",
        "# Setup: download and import libraries\n",
        "#===============================\n",
        "import nltk\n",
        "nltk.download('punkt')\n",
        "nltk.download('punkt_tab')  # Added to download the missing resource\n",
        "\n",
        "import io\n",
        "import random\n",
        "from nltk.lm.preprocessing import pad_both_ends, padded_everygram_pipeline\n",
        "from nltk.lm import MLE\n",
        "from nltk import word_tokenize\n",
        "\n",
        "#===============================\n",
        "# Step 1. Choose and open a corpus.\n",
        "#===============================\n",
        "# Change the filename below to the corpus of your choice (do NOT use Sherlock)\n",
        "corpus_filename = 'english-sherlock.txt'\n",
        "with io.open(corpus_filename, encoding='utf8') as f:\n",
        "    text = f.read()\n",
        "\n",
        "# Tokenize and convert text to lower case.\n",
        "tokens = word_tokenize(text.lower())\n",
        "\n",
        "#===============================\n",
        "# Helper functions\n",
        "#===============================\n",
        "\n",
        "def train_ngram_model(n, tokens):\n",
        "    \"\"\"\n",
        "    Given an n value and tokenized text, pad the sentence and train an MLE n-gram model.\n",
        "    \"\"\"\n",
        "    # Pad the tokens (this will add <s> at the start and </s> at the end)\n",
        "    padded_tokens = list(pad_both_ends(tokens, n))\n",
        "    # padded_everygram_pipeline expects a list of tokenized (and padded) sentences.\n",
        "    train_data, padded_vocab = padded_everygram_pipeline(n, [padded_tokens])\n",
        "    model = MLE(n)\n",
        "    model.fit(train_data, padded_vocab)\n",
        "    return model\n",
        "\n",
        "def generate_text(model, n, num_words=100):\n",
        "    \"\"\"\n",
        "    Generate text from a trained n-gram model.\n",
        "    Uses a seed of (n-1) start tokens and then removes any padding tokens from the final output.\n",
        "    \"\"\"\n",
        "    seed = ['<s>'] * (n - 1) if n > 1 else []\n",
        "    generated = model.generate(num_words, text_seed=seed, random_seed=42)\n",
        "    # Remove any start or end padding tokens for readability.\n",
        "    generated_clean = [word for word in generated if word not in ['<s>', '</s>']]\n",
        "    return ' '.join(generated_clean)\n",
        "\n",
        "#===============================\n",
        "# Step 2. Train n-gram models and generate sequences.\n",
        "#===============================\n",
        "models = {}         # to store models for n=1,2,3,4\n",
        "generated_texts = {}  # to store generated text\n",
        "\n",
        "for n in [1, 2, 3, 4]:\n",
        "    print(f\"\\nTraining {n}-gram model...\")\n",
        "    model = train_ngram_model(n, tokens)\n",
        "    models[n] = model\n",
        "    generated_text = generate_text(model, n, num_words=100)\n",
        "    generated_texts[n] = generated_text\n",
        "    print(f\"\\nGenerated 100-word sequence using {n}-gram model:\")\n",
        "    print(generated_text)\n",
        "\n",
        "#===============================\n",
        "# Step 3. Get n-gram probabilities and counts from the trigram model.\n",
        "#===============================\n",
        "# We use the trigram model (n=3) to extract these values.\n",
        "trigram_model = models[3]\n",
        "\n",
        "# For demonstration, choose the following examples:\n",
        "# Unigram: \"dorian\"\n",
        "# Bigram: \"dorian gray\"\n",
        "# Trigram: \"dorian gray said\"\n",
        "#\n",
        "# Note: Because the models were trained with padding, the initial context for the first word is ('<s>', '<s>')\n",
        "#       for a trigram model.\n",
        "\n",
        "# Unigram: probability of \"dorian\" with context ['<s>', '<s>']\n",
        "unigram_prob = trigram_model.score(\"dorian\", [\"<s>\", \"<s>\"])\n",
        "unigram_count = (trigram_model.counts[(\"<s>\", \"<s>\")][\"dorian\"]\n",
        "                 if (\"<s>\", \"<s>\") in trigram_model.counts and \"dorian\" in trigram_model.counts[(\"<s>\", \"<s>\")]\n",
        "                 else 0)\n",
        "\n",
        "# Bigram: probability of \"gray\" given context [\"<s>\", \"dorian\"]\n",
        "bigram_prob = trigram_model.score(\"gray\", [\"<s>\", \"dorian\"])\n",
        "bigram_count = (trigram_model.counts[(\"<s>\", \"dorian\")][\"gray\"]\n",
        "                if (\"<s>\", \"dorian\") in trigram_model.counts and \"gray\" in trigram_model.counts[(\"<s>\", \"dorian\")]\n",
        "                else 0)\n",
        "\n",
        "# Trigram: probability of \"said\" given context [\"dorian\", \"gray\"]\n",
        "trigram_prob = trigram_model.score(\"said\", [\"dorian\", \"gray\"])\n",
        "trigram_count = (trigram_model.counts[(\"dorian\", \"gray\")][\"said\"]\n",
        "                 if (\"dorian\", \"gray\") in trigram_model.counts and \"said\" in trigram_model.counts[(\"dorian\", \"gray\")]\n",
        "                 else 0)\n",
        "\n",
        "print(\"\\nTrigram model statistics (using chosen examples):\")\n",
        "print(f\"Unigram 'dorian': count = {unigram_count}, probability = {unigram_prob}\")\n",
        "print(f\"Bigram 'dorian gray': count = {bigram_count}, probability = {bigram_prob}\")\n",
        "print(f\"Trigram 'dorian gray said': count = {trigram_count}, probability = {trigram_prob}\")\n",
        "\n",
        "#===============================\n",
        "# Final Output: Print all generated sequences.\n",
        "#===============================\n",
        "for n in [1, 2, 3, 4]:\n",
        "    print(\"\\n----------------------------------------\")\n",
        "    print(f\"100-word sequence generated using {n}-gram model:\")\n",
        "    print(generated_texts[n])\n",
        "    print(\"----------------------------------------\")\n"
      ]
    },
    {
      "cell_type": "markdown",
      "metadata": {
        "id": "9QUfPuLwZVEl"
      },
      "source": [
        "In this exercise, I trained unigram, bigram, trigram, and four-gram language models on my chosen corpus. The unigram model generated text that was a random assortment of words with no coherent structure, reflecting the lack of contextual information. The bigram model showed slight improvement by linking words in common pairs, yet it still produced abrupt and disjointed text. The trigram and four-gram models performed better in generating more fluent and natural-sounding sequences, as they consider more context. However, even these higher-order models sometimes yielded repetitive or awkward phrases due to their inherent limitation of using a fixed-size context window. Additionally, when querying the trigram model for the probability and count of specific n-grams like \"dorian\", \"dorian gray\", and \"dorian gray said\", I obtained zeros—indicating that these sequences either did not appear in the corpus or were represented differently. Overall, the models demonstrate the classic trade-off: while increasing the n-gram order improves local coherence, it still does not capture the full complexity of natural language."
      ]
    },
    {
      "cell_type": "markdown",
      "metadata": {
        "id": "K4d73mUEZXCe"
      },
      "source": [
        "Part 2:"
      ]
    },
    {
      "cell_type": "code",
      "execution_count": null,
      "metadata": {
        "colab": {
          "base_uri": "https://localhost:8080/",
          "height": 160
        },
        "id": "_n2gxCPcZX_b",
        "outputId": "ea3c3ca9-a216-4a09-d880-f0a742c0b454"
      },
      "outputs": [
        {
          "data": {
            "application/vnd.google.colaboratory.intrinsic+json": {
              "type": "string"
            },
            "text/plain": [
              "\"\\nAuthor: Ranvir Deshmukh\\nDate: 2025-02-07\\nDescription:\\n    This script builds a bigram language model (MLE) from a corpus (here, 'english-sherlock.txt').\\n    It then calculates the perplexity of three test sentences:\\n      (a) A five-word sequence that appears in the corpus.\\n      (b) A five-word sequence that appears in our n-gram model from Part A.\\n      (c) A four-word sequence containing at least one word that is not in the training data.\\n    Finally, it prints the MLE probabilities for each bigram and the perplexity for each sentence.\\n    \\n    The expectation is that the sentence taken directly from the corpus will have the lowest perplexity,\\n    while the sentence with an unknown word will have the highest perplexity.\\n    \\nSources:\\n    - NLTK Language Model documentation: https://www.nltk.org/api/nltk.lm.html\\n    - Perplexity calculation discussion: https://stackoverflow.com/questions/54941966/how-can-i-calculate-perplexity-using-nltk\\n\""
            ]
          },
          "execution_count": 17,
          "metadata": {},
          "output_type": "execute_result"
        }
      ],
      "source": [
        "\"\"\"\n",
        "Author: Ranvir Deshmukh\n",
        "Date: 2025-02-07\n",
        "Description:\n",
        "    This script builds a bigram language model (MLE) from a corpus (here, 'english-sherlock.txt').\n",
        "    It then calculates the perplexity of three test sentences:\n",
        "      (a) A five-word sequence that appears in the corpus.\n",
        "      (b) A five-word sequence that appears in our n-gram model from Part A.\n",
        "      (c) A four-word sequence containing at least one word that is not in the training data.\n",
        "    Finally, it prints the MLE probabilities for each bigram and the perplexity for each sentence.\n",
        "\n",
        "    The expectation is that the sentence taken directly from the corpus will have the lowest perplexity,\n",
        "    while the sentence with an unknown word will have the highest perplexity.\n",
        "\n",
        "Sources:\n",
        "    - NLTK Language Model documentation: https://www.nltk.org/api/nltk.lm.html\n",
        "    - Perplexity calculation discussion: https://stackoverflow.com/questions/54941966/how-can-i-calculate-perplexity-using-nltk\n",
        "\"\"\""
      ]
    },
    {
      "cell_type": "code",
      "execution_count": null,
      "metadata": {
        "colab": {
          "base_uri": "https://localhost:8080/"
        },
        "id": "lXa_KokoZ96T",
        "outputId": "6d9dcde5-8f16-4637-ac6a-83ad655b2ee9"
      },
      "outputs": [
        {
          "name": "stderr",
          "output_type": "stream",
          "text": [
            "[nltk_data] Downloading package punkt to /root/nltk_data...\n",
            "[nltk_data]   Package punkt is already up-to-date!\n",
            "Downloading...\n",
            "From (original): https://drive.google.com/uc?id=1DAkd5C7HRTy0Tv2nSIWdpa4PMcKe5yZi\n",
            "From (redirected): https://drive.google.com/uc?id=1DAkd5C7HRTy0Tv2nSIWdpa4PMcKe5yZi&confirm=t&uuid=df48bf24-ce3f-491e-b46c-55987b49d016\n",
            "To: /content/hw4-corpora-2024.zip\n",
            "100%|██████████| 31.2M/31.2M [00:00<00:00, 47.2MB/s]\n"
          ]
        },
        {
          "name": "stdout",
          "output_type": "stream",
          "text": [
            "Archive:  hw4-corpora-2024.zip\n",
            "  inflating: amharic-converted.txt   \n",
            "  inflating: arabic-nawal-sadawi.txt  \n",
            "  inflating: bangla-wiki.txt         \n",
            "  inflating: english-shakespeare.txt  \n",
            "replace english-sherlock.txt? [y]es, [n]o, [A]ll, [N]one, [r]ename: n\n",
            "  inflating: french-victor-hugo.txt  \n",
            "  inflating: german-kafka.txt        \n",
            "  inflating: greek-europarl-greek.txt  \n",
            "  inflating: gujarati-ai4bharat.txt  \n",
            "  inflating: hindi-jansatta-utf8.txt  \n",
            "  inflating: igbo-corpus.txt         \n",
            "  inflating: indonesian-wikipedia-sentences.txt  \n",
            "  inflating: japanese-natsume-soseki.txt  \n",
            "  inflating: kinyarwanda-corpus.txt  \n",
            "  inflating: korean-news.txt         \n",
            "  inflating: latin-virgil.txt        \n",
            "  inflating: mandarin-lu-xun.txt     \n",
            "  inflating: marathi-ai4bharat.txt   \n",
            "  inflating: mauritian-creole-corpus.txt  \n",
            "  inflating: navajo-wikipedia-10k.txt  \n",
            "  inflating: nepali-artha-banijya.txt  \n",
            "  inflating: norwegian-bokmal-sigrid-undset.txt  \n",
            "  inflating: odia-ai4bharat.txt      \n",
            "  inflating: polish-europarl-polish.txt  \n",
            "  inflating: portuguese-clarice-lispector.txt  \n",
            "  inflating: punjabi-6500lines-ai4bharat(1).txt  \n",
            "  inflating: russian-pushkin-poems.txt  \n",
            "  inflating: spanish-garcia-marquez.txt  \n",
            "  inflating: swahili-sw-daima.txt    \n",
            "  inflating: tagalog.txt             \n",
            "  inflating: tamil-wiki.txt          \n",
            "  inflating: telugu-ai4bharat.txt    \n",
            "  inflating: thai-khun-chang-khun-phaen.txt  \n",
            "  inflating: tigrinya-converted.txt  \n",
            "  inflating: turkish-news-leipzig.txt  \n",
            "  inflating: urdu-news.txt           \n",
            "  inflating: vietnamese-news.txt     \n",
            "  inflating: yoruba-wikipedia-leipzig.txt  \n",
            "Test Sentences:\n",
            "  copyright laws are changing all\n",
            "  copyright laws are daring men\n",
            "  unicorns roam asdf silently\n",
            "\n",
            "MLE Estimates for each bigram in each test sentence:\n",
            "\n",
            "Sentence 1: 'copyright laws are changing all'\n",
            "  Bigram ('copyright', 'laws'): Probability = 1.0\n",
            "  Bigram ('laws', 'are'): Probability = 0.5\n",
            "  Bigram ('are', 'changing'): Probability = 0.0029850746268656717\n",
            "  Bigram ('changing', 'all'): Probability = 0.5\n",
            "\n",
            "Sentence 2: 'copyright laws are daring men'\n",
            "  Bigram ('copyright', 'laws'): Probability = 1.0\n",
            "  Bigram ('laws', 'are'): Probability = 0.5\n",
            "  Bigram ('are', 'daring'): Probability = 0.0029850746268656717\n",
            "  Bigram ('daring', 'men'): Probability = 0.2\n",
            "\n",
            "Sentence 3: 'unicorns roam asdf silently'\n",
            "  Bigram ('unicorns', 'roam'): Probability = 0\n",
            "  Bigram ('roam', 'asdf'): Probability = 0\n",
            "  Bigram ('asdf', 'silently'): Probability = 0\n",
            "\n",
            "Perplexity for each test sentence:\n",
            "PP('copyright laws are changing all'): 6.050290111676155\n",
            "PP('copyright laws are daring men'): 7.6078370457016975\n",
            "PP('unicorns roam asdf silently'): inf\n"
          ]
        }
      ],
      "source": [
        "import nltk\n",
        "nltk.download('punkt')\n",
        "import io\n",
        "from nltk.lm.preprocessing import pad_both_ends, padded_everygram_pipeline\n",
        "from nltk.lm import MLE\n",
        "from nltk import word_tokenize, bigrams\n",
        "import gdown\n",
        "\n",
        "#--------------------------------------------\n",
        "# Download and extract the corpus.\n",
        "#--------------------------------------------\n",
        "url = \"https://drive.google.com/uc?id=1DAkd5C7HRTy0Tv2nSIWdpa4PMcKe5yZi\"\n",
        "output = 'hw4-corpora-2024.zip'\n",
        "gdown.download(url, output, quiet=False)\n",
        "!unzip -j hw4-corpora-2024.zip\n",
        "\n",
        "# Open the corpus file (using 'english-sherlock.txt'; change if needed)\n",
        "with io.open('english-sherlock.txt', encoding='utf8') as f:\n",
        "    text = f.read()\n",
        "\n",
        "# Preprocess the corpus for language modeling (build a bigram model, n = 2)\n",
        "n = 2\n",
        "# Note: We tokenize the entire text and then pad it.\n",
        "padded_line = [list(pad_both_ends(word_tokenize(text.lower()), n))]\n",
        "train_data, vocab = padded_everygram_pipeline(n, padded_line)\n",
        "\n",
        "# Train the MLE bigram model.\n",
        "model = MLE(n)\n",
        "model.fit(train_data, vocab)\n",
        "\n",
        "#--------------------------------------------\n",
        "# Define test sentences.\n",
        "#--------------------------------------------\n",
        "# (a) A five-word sequence that DOES appear in the corpus.\n",
        "#     We take the first five tokens from the corpus (which guarantees it appears).\n",
        "tokens = word_tokenize(text.lower())\n",
        "sentence_a = \" \".join(tokens[:5])  # e.g., \"i had a habit of\"\n",
        "\n",
        "# (b) A five-word sequence that appears in the n-gram model from Part A.\n",
        "#     For example, from our generated bigram output we use:\n",
        "sentence_b = \"copyright laws are daring men\"  # five words\n",
        "\n",
        "# (c) A four-word sequence with at least one word that does not appear in the model.\n",
        "#     We include \"asdf\" (an invented token) to guarantee an OOV word.\n",
        "sentence_c = \"unicorns roam asdf silently\"\n",
        "\n",
        "test_sentences = [sentence_a, sentence_b, sentence_c]\n",
        "\n",
        "print(\"Test Sentences:\")\n",
        "for s in test_sentences:\n",
        "    print(f\"  {s}\")\n",
        "\n",
        "#--------------------------------------------\n",
        "# Tokenize the test sentences.\n",
        "#--------------------------------------------\n",
        "tokenized_test = [list(map(str.lower, word_tokenize(sent))) for sent in test_sentences]\n",
        "\n",
        "# Compute bigrams for each test sentence (without extra padding).\n",
        "test_bigrams = [list(bigrams(t, pad_left=False, pad_right=False)) for t in tokenized_test]\n",
        "\n",
        "#--------------------------------------------\n",
        "# Print MLE probability estimates for each bigram.\n",
        "#--------------------------------------------\n",
        "print(\"\\nMLE Estimates for each bigram in each test sentence:\")\n",
        "for i, bigram_list in enumerate(test_bigrams):\n",
        "    print(f\"\\nSentence {i+1}: '{test_sentences[i]}'\")\n",
        "    for bg in bigram_list:\n",
        "        # In a bigram, bg is a tuple (w1, w2). We compute the probability of w2 given w1.\n",
        "        prob = model.score(bg[1], [bg[0]])\n",
        "        print(f\"  Bigram {bg}: Probability = {prob}\")\n",
        "\n",
        "#--------------------------------------------\n",
        "# Calculate and print the perplexity for each sentence.\n",
        "#--------------------------------------------\n",
        "print(\"\\nPerplexity for each test sentence:\")\n",
        "for i, bigram_list in enumerate(test_bigrams):\n",
        "    pp = model.perplexity(bigram_list)\n",
        "    print(f\"PP('{test_sentences[i]}'): {pp}\")"
      ]
    },
    {
      "cell_type": "markdown",
      "metadata": {
        "id": "XmORrbGXc_jP"
      },
      "source": [
        "A bigram language model was built using the Sherlock corpus, and its perplexity was evaluated on three test sentences. The first sentence, \"copyright laws are changing all\", is directly from the corpus and achieves a low perplexity of 6.05, reflecting that the model is very familiar with this sequence. The second sentence, \"copyright laws are daring men\", also appears in the model but is slightly less common, resulting in a higher perplexity of 7.61. The third sentence, \"unicorns roam asdf silently\", deliberately includes an out-of-vocabulary word (\"asdf\") and consequently returns an infinite perplexity, as the model assigns zero probability to its bigrams. These results demonstrate that the model confidently predicts known sequences while unfamiliar or unseen tokens cause drastic increases in perplexity."
      ]
    },
    {
      "cell_type": "markdown",
      "metadata": {
        "id": "AgzWcMr4bJxq"
      },
      "source": []
    },
    {
      "cell_type": "markdown",
      "metadata": {
        "id": "0--Qjb4CamGU"
      },
      "source": [
        "# **Exercise 4**"
      ]
    },
    {
      "cell_type": "code",
      "execution_count": null,
      "metadata": {
        "colab": {
          "base_uri": "https://localhost:8080/",
          "height": 161
        },
        "id": "xERR_euKbRZB",
        "outputId": "32c06b1f-40c3-4b48-8e11-feea107a3700"
      },
      "outputs": [
        {
          "data": {
            "application/vnd.google.colaboratory.intrinsic+json": {
              "type": "string"
            },
            "text/plain": [
              "'\\nAuthor: Ranvir Deshmukh\\nDate: 2025-02-07\\nDescription:\\n    This script performs sentiment analysis using a Naïve Bayes classifier.\\n    The function runNBTest() encapsulates the process and takes four parameters:\\n      - filenamePos: file containing positive reviews (one review per line)\\n      - filenameNeg: file containing negative reviews (one review per line)\\n      - cutoff: the fraction of reviews to use for training (e.g., 0.8)\\n      - numFeats: the number of most informative features to display\\n      \\n    The function reads the review files, creates features using unigrams and bigrams,\\n    splits the data into training and test sets according to the cutoff, trains a Naïve Bayes\\n    classifier, evaluates its performance (accuracy, precision, recall, F-measure), and displays\\n    the most informative features.\\n    \\nUsage:\\n    runNBTest(\"amazon-pos.txt\", \"amazon-neg.txt\", 0.8, 25)\\n    runNBTest(\"google-pos.txt\", \"google-neg.txt\", 0.8, 25)\\n    \\nSources:\\n    - Starter code and instructions from Dartmouth College LING48 (Spring 2024)\\n    - NLTK documentation: https://www.nltk.org/api/nltk.lm.html\\n'"
            ]
          },
          "execution_count": 18,
          "metadata": {},
          "output_type": "execute_result"
        }
      ],
      "source": [
        "\"\"\"\n",
        "Author: Ranvir Deshmukh\n",
        "Date: 2025-02-07\n",
        "Description:\n",
        "    This script performs sentiment analysis using a Naïve Bayes classifier.\n",
        "    The function runNBTest() encapsulates the process and takes four parameters:\n",
        "      - filenamePos: file containing positive reviews (one review per line)\n",
        "      - filenameNeg: file containing negative reviews (one review per line)\n",
        "      - cutoff: the fraction of reviews to use for training (e.g., 0.8)\n",
        "      - numFeats: the number of most informative features to display\n",
        "\n",
        "    The function reads the review files, creates features using unigrams and bigrams,\n",
        "    splits the data into training and test sets according to the cutoff, trains a Naïve Bayes\n",
        "    classifier, evaluates its performance (accuracy, precision, recall, F-measure), and displays\n",
        "    the most informative features.\n",
        "\n",
        "Usage:\n",
        "    runNBTest(\"amazon-pos.txt\", \"amazon-neg.txt\", 0.8, 25)\n",
        "    runNBTest(\"google-pos.txt\", \"google-neg.txt\", 0.8, 25)\n",
        "\n",
        "Sources:\n",
        "    - Starter code and instructions from Dartmouth College LING48 (Spring 2024)\n",
        "    - NLTK documentation: https://www.nltk.org/api/nltk.lm.html\n",
        "\"\"\""
      ]
    },
    {
      "cell_type": "code",
      "execution_count": null,
      "metadata": {
        "colab": {
          "base_uri": "https://localhost:8080/"
        },
        "id": "M_k4XmCvbguN",
        "outputId": "6887237e-6087-4483-8ad5-d43676d9fcae"
      },
      "outputs": [
        {
          "name": "stderr",
          "output_type": "stream",
          "text": [
            "[nltk_data] Downloading package punkt to /root/nltk_data...\n",
            "[nltk_data]   Package punkt is already up-to-date!\n"
          ]
        },
        {
          "name": "stdout",
          "output_type": "stream",
          "text": [
            "=== Results for Amazon Reviews ===\n",
            "Training on 800 instances, testing on 200 instances\n",
            "Accuracy:      0.8900\n",
            "Positive precision: 0.9062\n",
            "Positive recall:    0.8700\n",
            "Negative precision: 0.8750\n",
            "Negative recall:    0.9100\n",
            "Positive F-measure: 0.8878\n",
            "Negative F-measure: 0.8922\n",
            "\n",
            "Most Informative Features:\n",
            "Most Informative Features\n",
            "              ('Great',) = True              pos : neg    =     40.3 : 1.0\n",
            "               ('nice',) = True              pos : neg    =     13.0 : 1.0\n",
            "              ('smart',) = True              pos : neg    =     12.3 : 1.0\n",
            "         ('people', ',') = True              pos : neg    =     11.7 : 1.0\n",
            "              ('learn',) = True              pos : neg    =     11.0 : 1.0\n",
            "      ('opportunities',) = True              pos : neg    =      9.8 : 1.0\n",
            "           ('benefits',) = True              pos : neg    =      9.7 : 1.0\n",
            "         ('to', 'learn') = True              pos : neg    =      9.0 : 1.0\n",
            "            ('balance',) = True              neg : pos    =      8.8 : 1.0\n",
            "                ('Not',) = True              neg : pos    =      7.8 : 1.0\n",
            "          ('You', 'get') = True              pos : neg    =      7.7 : 1.0\n",
            "               ('does',) = True              neg : pos    =      7.7 : 1.0\n",
            "  ('opportunity', 'for') = True              pos : neg    =      7.7 : 1.0\n",
            "               ('rate',) = True              neg : pos    =      7.7 : 1.0\n",
            "                 ('No',) = True              neg : pos    =      7.4 : 1.0\n",
            "               ('Good',) = True              pos : neg    =      7.0 : 1.0\n",
            "          ('a', 'great') = True              pos : neg    =      7.0 : 1.0\n",
            "                ('fun',) = True              pos : neg    =      7.0 : 1.0\n",
            "           ('get', 'to') = True              pos : neg    =      7.0 : 1.0\n",
            "       ('long', 'hours') = True              neg : pos    =      7.0 : 1.0\n",
            "        ('work', 'with') = True              pos : neg    =      7.0 : 1.0\n",
            "     ('life', 'balance') = True              neg : pos    =      6.6 : 1.0\n",
            "          ('.', 'Great') = True              pos : neg    =      6.3 : 1.0\n",
            "             ('decent',) = True              pos : neg    =      6.3 : 1.0\n",
            "             ('expect',) = True              neg : pos    =      6.3 : 1.0\n",
            "\n",
            "=== Results for Google Reviews ===\n",
            "Training on 800 instances, testing on 200 instances\n",
            "Accuracy:      0.8850\n",
            "Positive precision: 0.9231\n",
            "Positive recall:    0.8400\n",
            "Negative precision: 0.8532\n",
            "Negative recall:    0.9300\n",
            "Positive F-measure: 0.8796\n",
            "Negative F-measure: 0.8900\n",
            "\n",
            "Most Informative Features:\n",
            "Most Informative Features\n",
            "              ('Great',) = True              pos : neg    =     29.8 : 1.0\n",
            "              ('perks',) = True              pos : neg    =     25.4 : 1.0\n",
            "               ('free',) = True              pos : neg    =     21.0 : 1.0\n",
            "            ('amazing',) = True              pos : neg    =     17.7 : 1.0\n",
            "          ('hard', 'to') = True              neg : pos    =     15.7 : 1.0\n",
            "               ('Good',) = True              pos : neg    =     15.0 : 1.0\n",
            "           ('can', 'be') = True              neg : pos    =     14.2 : 1.0\n",
            "          ('sometimes',) = True              neg : pos    =     13.7 : 1.0\n",
            "        ('interesting',) = True              pos : neg    =     13.0 : 1.0\n",
            "           ('food', ',') = True              pos : neg    =     12.6 : 1.0\n",
            "          ('difficult',) = True              neg : pos    =     12.3 : 1.0\n",
            "              ('times',) = True              neg : pos    =     12.3 : 1.0\n",
            "                ('fun',) = True              pos : neg    =     10.2 : 1.0\n",
            "           ('politics',) = True              neg : pos    =      9.7 : 1.0\n",
            "           ('benefits',) = True              pos : neg    =      9.5 : 1.0\n",
            "            ('awesome',) = True              pos : neg    =      9.0 : 1.0\n",
            "        ('culture', ',') = True              pos : neg    =      9.0 : 1.0\n",
            "     ('and', 'benefits') = True              pos : neg    =      8.3 : 1.0\n",
            "    ('environment', ',') = True              pos : neg    =      8.3 : 1.0\n",
            "            ('nothing',) = True              neg : pos    =      8.3 : 1.0\n",
            "               ('food',) = True              pos : neg    =      8.2 : 1.0\n",
            "               ('Free',) = True              pos : neg    =      7.8 : 1.0\n",
            "                ('not',) = True              neg : pos    =      7.8 : 1.0\n",
            "             (\"'s\", 'a') = True              neg : pos    =      7.7 : 1.0\n",
            "       ('organization',) = True              neg : pos    =      7.7 : 1.0\n"
          ]
        },
        {
          "data": {
            "text/plain": [
              "<nltk.classify.naivebayes.NaiveBayesClassifier at 0x7e5b6173f950>"
            ]
          },
          "execution_count": 21,
          "metadata": {},
          "output_type": "execute_result"
        }
      ],
      "source": [
        "#----------------------------------\n",
        "# Import libraries\n",
        "#----------------------------------\n",
        "import itertools\n",
        "import collections\n",
        "from nltk import word_tokenize\n",
        "import nltk.classify.util\n",
        "from nltk.classify import NaiveBayesClassifier\n",
        "from nltk.metrics import BigramAssocMeasures\n",
        "from nltk.metrics.scores import precision, recall, f_measure\n",
        "from nltk.collocations import BigramCollocationFinder\n",
        "\n",
        "# Download the 'punkt' tokenizer if not already downloaded\n",
        "import nltk\n",
        "nltk.download('punkt')\n",
        "\n",
        "#----------------------------------\n",
        "# Function: bigram_word_feats\n",
        "#----------------------------------\n",
        "def bigram_word_feats(words, score_fn=BigramAssocMeasures.chi_sq, n=200):\n",
        "    \"\"\"\n",
        "    Given a list of words, this function returns a dictionary of features\n",
        "    including both unigrams (as one-element tuples) and the top n bigrams (as tuples)\n",
        "    based on a chi-squared score.\n",
        "    \"\"\"\n",
        "    bigram_finder = BigramCollocationFinder.from_words(words)\n",
        "    bigrams = bigram_finder.nbest(score_fn, n)\n",
        "\n",
        "    # Convert each word to a one-element tuple\n",
        "    tupledWords = [(w,) for w in words]\n",
        "\n",
        "    # Combine unigrams and bigrams into one dictionary of features\n",
        "    return dict([(ngram, True) for ngram in itertools.chain(tupledWords, bigrams)])\n",
        "\n",
        "#----------------------------------\n",
        "# Function: runNBTest\n",
        "#----------------------------------\n",
        "def runNBTest(filenamePos, filenameNeg, cutoff, numFeats):\n",
        "    \"\"\"\n",
        "    Run a Naïve Bayes sentiment analysis test.\n",
        "\n",
        "    Parameters:\n",
        "      filenamePos (str): File name of positive reviews.\n",
        "      filenameNeg (str): File name of negative reviews.\n",
        "      cutoff (float): Fraction of reviews to use for training (e.g., 0.8).\n",
        "      numFeats (int): Number of most informative features to display.\n",
        "\n",
        "    The function:\n",
        "      - Reads positive and negative reviews (assumes one review per line).\n",
        "      - Tokenizes each review and extracts features using unigrams and bigrams.\n",
        "      - Splits the data into training and test sets according to the cutoff.\n",
        "      - Trains a Naïve Bayes classifier.\n",
        "      - Evaluates the classifier (accuracy, precision, recall, F-measure).\n",
        "      - Prints the evaluation metrics and the most informative features.\n",
        "    \"\"\"\n",
        "    # Load positive reviews\n",
        "    posReviewsText = []\n",
        "    with open(filenamePos, \"r\", encoding=\"utf8\") as f:\n",
        "        for line in f:\n",
        "            line = line.strip()\n",
        "            if line:\n",
        "                posReviewsText.append(line)\n",
        "\n",
        "    # Load negative reviews\n",
        "    negReviewsText = []\n",
        "    with open(filenameNeg, \"r\", encoding=\"utf8\") as f:\n",
        "        for line in f:\n",
        "            line = line.strip()\n",
        "            if line:\n",
        "                negReviewsText.append(line)\n",
        "\n",
        "    # Build feature sets for positive and negative reviews\n",
        "    posfeats = []\n",
        "    negfeats = []\n",
        "\n",
        "    for review in posReviewsText:\n",
        "        tokens = word_tokenize(review)\n",
        "        feats = bigram_word_feats(tokens)\n",
        "        posfeats.append((feats, 'pos'))\n",
        "\n",
        "    for review in negReviewsText:\n",
        "        tokens = word_tokenize(review)\n",
        "        feats = bigram_word_feats(tokens)\n",
        "        negfeats.append((feats, 'neg'))\n",
        "\n",
        "    # Compute cutoff indices (number of reviews used for training)\n",
        "    poscutoff = int(len(posfeats) * cutoff)\n",
        "    negcutoff = int(len(negfeats) * cutoff)\n",
        "\n",
        "    # Create training and test sets\n",
        "    trainfeats = posfeats[:poscutoff] + negfeats[:negcutoff]\n",
        "    testfeats = posfeats[poscutoff:] + negfeats[negcutoff:]\n",
        "\n",
        "    print('Training on {} instances, testing on {} instances'.format(len(trainfeats), len(testfeats)))\n",
        "\n",
        "    # Train the Naïve Bayes classifier\n",
        "    classifier = NaiveBayesClassifier.train(trainfeats)\n",
        "\n",
        "    # Create dictionaries to hold gold and predicted labels\n",
        "    goldLabels = collections.defaultdict(set)\n",
        "    predictedLabels = collections.defaultdict(set)\n",
        "\n",
        "    # Evaluate predictions on the test set\n",
        "    for i, (feats, label) in enumerate(testfeats):\n",
        "        goldLabels[label].add(i)\n",
        "        predicted = classifier.classify(feats)\n",
        "        predictedLabels[predicted].add(i)\n",
        "\n",
        "    posPrecision = precision(goldLabels['pos'], predictedLabels['pos'])\n",
        "    posRecall = recall(goldLabels['pos'], predictedLabels['pos'])\n",
        "    negPrecision = precision(goldLabels['neg'], predictedLabels['neg'])\n",
        "    negRecall = recall(goldLabels['neg'], predictedLabels['neg'])\n",
        "    posF = f_measure(goldLabels['pos'], predictedLabels['pos'])\n",
        "    negF = f_measure(goldLabels['neg'], predictedLabels['neg'])\n",
        "\n",
        "    # Print evaluation metrics\n",
        "    print('Accuracy:      {:.4f}'.format(nltk.classify.util.accuracy(classifier, testfeats)))\n",
        "    print('Positive precision: {:.4f}'.format(posPrecision))\n",
        "    print('Positive recall:    {:.4f}'.format(posRecall))\n",
        "    print('Negative precision: {:.4f}'.format(negPrecision))\n",
        "    print('Negative recall:    {:.4f}'.format(negRecall))\n",
        "    print('Positive F-measure: {:.4f}'.format(posF))\n",
        "    print('Negative F-measure: {:.4f}'.format(negF))\n",
        "\n",
        "    # Show the most informative features\n",
        "    print(\"\\nMost Informative Features:\")\n",
        "    classifier.show_most_informative_features(n=numFeats)\n",
        "\n",
        "    # Optionally, you can return the classifier or evaluation metrics\n",
        "    return classifier\n",
        "\n",
        "#----------------------------------\n",
        "# Run the tests as specified\n",
        "#----------------------------------\n",
        "print(\"=== Results for Amazon Reviews ===\")\n",
        "runNBTest(\"amazon-pos.txt\", \"amazon-neg.txt\", 0.8, 25)\n",
        "\n",
        "print(\"\\n=== Results for Google Reviews ===\")\n",
        "runNBTest(\"google-pos.txt\", \"google-neg.txt\", 0.8, 25)\n"
      ]
    },
    {
      "cell_type": "markdown",
      "metadata": {
        "id": "8zeer-rcapKT"
      },
      "source": [
        "Naïve Bayes Sentiment Analysis: Amazon vs. Google\n",
        "\n",
        "I used a Naïve Bayes classifier with an 80/20 train/test split (800/200 instances) on employee reviews for Amazon and Google, extracting features from unigrams and bigrams. For Amazon, the classifier achieved 89.0% accuracy (positive precision: 90.6%, recall: 87.0%; negative precision: 87.5%, recall: 91.0%). For Google, the accuracy was 88.5% (positive precision: 92.3%, recall: 84.0%; negative precision: 85.3%, recall: 93.0%).\n",
        "\n",
        "Key informative features for Amazon included strongly positive terms like \"Great\" and \"nice\", and negative cues like \"balance\" and \"Not\". In contrast, Google’s positive sentiment was marked by features such as \"perks\" and \"amazing\", while negative sentiment was signaled by \"hard\" and \"difficult\".\n",
        "\n",
        "This analysis demonstrates robust classification performance and offers actionable insights into the differing employee sentiments at Amazon and Google."
      ]
    }
  ],
  "metadata": {
    "colab": {
      "provenance": [],
      "toc_visible": true
    },
    "kernelspec": {
      "display_name": "Python 3",
      "name": "python3"
    },
    "language_info": {
      "name": "python"
    }
  },
  "nbformat": 4,
  "nbformat_minor": 0
}
